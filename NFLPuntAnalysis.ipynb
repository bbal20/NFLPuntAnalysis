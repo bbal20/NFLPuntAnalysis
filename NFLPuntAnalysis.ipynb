{
 "cells": [
  {
   "cell_type": "markdown",
   "metadata": {},
   "source": [
    "### Packages"
   ]
  },
  {
   "cell_type": "code",
   "execution_count": 19,
   "metadata": {},
   "outputs": [],
   "source": [
    "import numpy as np\n",
    "import pandas as pd\n",
    "import matplotlib as mplt\n",
    "import seaborn as splt"
   ]
  },
  {
   "cell_type": "markdown",
   "metadata": {},
   "source": [
    "### Import Data"
   ]
  },
  {
   "cell_type": "markdown",
   "metadata": {},
   "source": [
    "###### Next Gen Stats data sets"
   ]
  },
  {
   "cell_type": "code",
   "execution_count": 20,
   "metadata": {},
   "outputs": [],
   "source": [
    "df_NGS_2016_post = pd.read_csv('data/NGS-2016-post.csv', skiprows=1, names=['Season_Year','GameKey','PlayID',\n",
    "                                                      'GSISID','Date_TIme','coor_x','coor_y',\n",
    "                                                      'Distance','Orientation','Direction','Event'])\n",
    "\n",
    "df_NGS_2016_pre = pd.read_csv('data/NGS-2016-pre.csv', skiprows=1, names=['Season_Year','GameKey','PlayID',\n",
    "                                                      'GSISID','Date_TIme','coor_x','coor_y',\n",
    "                                                      'Distance','Orientation','Direction','Event'])\n",
    "\n",
    "df_NGS_2017_post = pd.read_csv('data/NGS-2017-post.csv', skiprows=1, names=['Season_Year','GameKey','PlayID',\n",
    "                                                      'GSISID','Date_TIme','coor_x','coor_y',\n",
    "                                                      'Distance','Orientation','Direction','Event'])\n",
    "\n",
    "df_NGS_2017_pre = pd.read_csv('data/NGS-2017-pre.csv', skiprows=1, names=['Season_Year','GameKey','PlayID',\n",
    "                                                      'GSISID','Date_TIme','coor_x','coor_y',\n",
    "                                                      'Distance','Orientation','Direction','Event'])\n",
    "\n",
    "df_NGS_2016_reg_wk1 = pd.read_csv('data/NGS-2016-reg-wk1-6.csv', skiprows=1, names=['Season_Year','GameKey','PlayID',\n",
    "                                                      'GSISID','Date_TIme','coor_x','coor_y',\n",
    "                                                      'Distance','Orientation','Direction','Event'])\n",
    "\n",
    "df_NGS_2017_reg_wk1 = pd.read_csv('data/NGS-2017-reg-wk1-6.csv', skiprows=1, names=['Season_Year','GameKey','PlayID',\n",
    "                                                      'GSISID','Date_TIme','coor_x','coor_y',\n",
    "                                                      'Distance','Orientation','Direction','Event'])\n",
    "\n",
    "df_NGS_2016_reg_wk2 = pd.read_csv('data/NGS-2016-reg-wk7-12.csv', skiprows=1, names=['Season_Year','GameKey','PlayID',\n",
    "                                                      'GSISID','Date_TIme','coor_x','coor_y',\n",
    "                                                      'Distance','Orientation','Direction','Event'])\n",
    "\n",
    "df_NGS_2017_reg_wk2 = pd.read_csv('data/NGS-2017-reg-wk7-12.csv', skiprows=1, names=['Season_Year','GameKey','PlayID',\n",
    "                                                      'GSISID','Date_TIme','coor_x','coor_y',\n",
    "                                                      'Distance','Orientation','Direction','Event'])\n",
    "\n",
    "df_NGS_2016_reg_wk13 = pd.read_csv('data/NGS-2016-reg-wk13-17.csv', skiprows=1, names=['Season_Year','GameKey','PlayID',\n",
    "                                                      'GSISID','Date_TIme','coor_x','coor_y',\n",
    "                                                      'Distance','Orientation','Direction','Event'])\n",
    "\n",
    "df_NGS_2017_reg_wk13 = pd.read_csv('data/NGS-2017-reg-wk13-17.csv', skiprows=1, names=['Season_Year','GameKey','PlayID',\n",
    "                                                      'GSISID','Date_TIme','coor_x','coor_y',\n",
    "                                                      'Distance','Orientation','Direction','Event'])\n",
    "\n"
   ]
  },
  {
   "cell_type": "markdown",
   "metadata": {},
   "source": [
    "###### Video data sets"
   ]
  },
  {
   "cell_type": "code",
   "execution_count": 27,
   "metadata": {},
   "outputs": [],
   "source": [
    "df_video_control = pd.read_csv('data/video_footage-control.csv')\n",
    "\n",
    "df_video_injury = pd.read_csv('data/video_footage-injury.csv')\n",
    "\n",
    "df_video_review = pd.read_csv('data/video_review.csv')"
   ]
  },
  {
   "cell_type": "markdown",
   "metadata": {},
   "source": [
    "###### Play Information data set"
   ]
  },
  {
   "cell_type": "code",
   "execution_count": 28,
   "metadata": {},
   "outputs": [],
   "source": [
    "df_play_info = pd.read_csv('data/play_information.csv')"
   ]
  },
  {
   "cell_type": "markdown",
   "metadata": {},
   "source": [
    "###### Player Role data set"
   ]
  },
  {
   "cell_type": "code",
   "execution_count": 29,
   "metadata": {},
   "outputs": [],
   "source": [
    "df_player_role = pd.read_csv('data/play_player_role_data.csv')"
   ]
  },
  {
   "cell_type": "markdown",
   "metadata": {},
   "source": [
    "###### Player Punt data set"
   ]
  },
  {
   "cell_type": "code",
   "execution_count": 30,
   "metadata": {},
   "outputs": [],
   "source": [
    "df_player_punt = pd.read_csv('data/player_punt_data.csv')"
   ]
  },
  {
   "cell_type": "markdown",
   "metadata": {},
   "source": [
    "###### Game data set"
   ]
  },
  {
   "cell_type": "code",
   "execution_count": 31,
   "metadata": {},
   "outputs": [],
   "source": [
    "df_game = pd.read_csv('data/game_data.csv')"
   ]
  },
  {
   "cell_type": "markdown",
   "metadata": {},
   "source": [
    "Full Join on all datasets"
   ]
  },
  {
   "cell_type": "code",
   "execution_count": null,
   "metadata": {},
   "outputs": [],
   "source": [
    "()"
   ]
  },
  {
   "cell_type": "code",
   "execution_count": null,
   "metadata": {},
   "outputs": [],
   "source": []
  },
  {
   "cell_type": "code",
   "execution_count": null,
   "metadata": {},
   "outputs": [],
   "source": []
  },
  {
   "cell_type": "code",
   "execution_count": null,
   "metadata": {},
   "outputs": [],
   "source": []
  },
  {
   "cell_type": "code",
   "execution_count": 38,
   "metadata": {},
   "outputs": [
    {
     "data": {
      "text/plain": [
       "Season_Year    0\n",
       "GameKey        0\n",
       "PlayID         0\n",
       "GSISID         0\n",
       "Role           0\n",
       "dtype: int64"
      ]
     },
     "execution_count": 38,
     "metadata": {},
     "output_type": "execute_result"
    }
   ],
   "source": [
    "df_player_role.isnull().sum()\n",
    "\n"
   ]
  }
 ],
 "metadata": {
  "kernelspec": {
   "display_name": "Python 3",
   "language": "python",
   "name": "python3"
  },
  "language_info": {
   "codemirror_mode": {
    "name": "ipython",
    "version": 3
   },
   "file_extension": ".py",
   "mimetype": "text/x-python",
   "name": "python",
   "nbconvert_exporter": "python",
   "pygments_lexer": "ipython3",
   "version": "3.7.1"
  }
 },
 "nbformat": 4,
 "nbformat_minor": 2
}
