{
 "cells": [
  {
   "cell_type": "markdown",
   "metadata": {},
   "source": [
    "### Packages"
   ]
  },
  {
   "cell_type": "code",
   "execution_count": 1,
   "metadata": {},
   "outputs": [],
   "source": [
    "import numpy as np\n",
    "import pandas as pd\n",
    "import matplotlib as mplt\n",
    "import seaborn as sns\n",
    "import tqdm \n",
    "import os\n",
    "import gc #garbage collection"
   ]
  },
  {
   "cell_type": "markdown",
   "metadata": {},
   "source": [
    "### Import Data"
   ]
  },
  {
   "cell_type": "markdown",
   "metadata": {},
   "source": [
    "###### Next Gen Stats data sets"
   ]
  },
  {
   "cell_type": "code",
   "execution_count": 22,
   "metadata": {},
   "outputs": [
    {
     "data": {
      "text/html": [
       "<div>\n",
       "<style scoped>\n",
       "    .dataframe tbody tr th:only-of-type {\n",
       "        vertical-align: middle;\n",
       "    }\n",
       "\n",
       "    .dataframe tbody tr th {\n",
       "        vertical-align: top;\n",
       "    }\n",
       "\n",
       "    .dataframe thead th {\n",
       "        text-align: right;\n",
       "    }\n",
       "</style>\n",
       "<table border=\"1\" class=\"dataframe\">\n",
       "  <thead>\n",
       "    <tr style=\"text-align: right;\">\n",
       "      <th></th>\n",
       "      <th>Season_Year</th>\n",
       "      <th>GameKey</th>\n",
       "      <th>PlayID</th>\n",
       "      <th>GSISID</th>\n",
       "      <th>Time</th>\n",
       "      <th>x</th>\n",
       "      <th>y</th>\n",
       "      <th>dis</th>\n",
       "      <th>o</th>\n",
       "      <th>dir</th>\n",
       "      <th>Event</th>\n",
       "    </tr>\n",
       "  </thead>\n",
       "  <tbody>\n",
       "    <tr>\n",
       "      <th>0</th>\n",
       "      <td>2016</td>\n",
       "      <td>332</td>\n",
       "      <td>2983</td>\n",
       "      <td>31357</td>\n",
       "      <td>2017-02-06 02:16:46.500</td>\n",
       "      <td>62.500000</td>\n",
       "      <td>44.040001</td>\n",
       "      <td>0.01</td>\n",
       "      <td>172.750000</td>\n",
       "      <td>254.820007</td>\n",
       "      <td>NaN</td>\n",
       "    </tr>\n",
       "    <tr>\n",
       "      <th>1</th>\n",
       "      <td>2016</td>\n",
       "      <td>332</td>\n",
       "      <td>2983</td>\n",
       "      <td>29252</td>\n",
       "      <td>2017-02-06 02:16:46.700</td>\n",
       "      <td>62.340000</td>\n",
       "      <td>24.610001</td>\n",
       "      <td>0.02</td>\n",
       "      <td>183.720001</td>\n",
       "      <td>86.209999</td>\n",
       "      <td>NaN</td>\n",
       "    </tr>\n",
       "    <tr>\n",
       "      <th>2</th>\n",
       "      <td>2016</td>\n",
       "      <td>332</td>\n",
       "      <td>2983</td>\n",
       "      <td>31570</td>\n",
       "      <td>2017-02-06 02:16:46.700</td>\n",
       "      <td>62.340000</td>\n",
       "      <td>7.340000</td>\n",
       "      <td>0.01</td>\n",
       "      <td>164.559998</td>\n",
       "      <td>199.660004</td>\n",
       "      <td>NaN</td>\n",
       "    </tr>\n",
       "    <tr>\n",
       "      <th>3</th>\n",
       "      <td>2016</td>\n",
       "      <td>332</td>\n",
       "      <td>2983</td>\n",
       "      <td>31357</td>\n",
       "      <td>2017-02-06 02:16:46.700</td>\n",
       "      <td>62.480000</td>\n",
       "      <td>44.070000</td>\n",
       "      <td>0.02</td>\n",
       "      <td>160.509995</td>\n",
       "      <td>250.039993</td>\n",
       "      <td>NaN</td>\n",
       "    </tr>\n",
       "    <tr>\n",
       "      <th>4</th>\n",
       "      <td>2016</td>\n",
       "      <td>332</td>\n",
       "      <td>2983</td>\n",
       "      <td>27980</td>\n",
       "      <td>2017-02-06 02:16:46.700</td>\n",
       "      <td>62.650002</td>\n",
       "      <td>22.129999</td>\n",
       "      <td>0.04</td>\n",
       "      <td>185.669998</td>\n",
       "      <td>266.500000</td>\n",
       "      <td>NaN</td>\n",
       "    </tr>\n",
       "  </tbody>\n",
       "</table>\n",
       "</div>"
      ],
      "text/plain": [
       "   Season_Year  GameKey  PlayID  GSISID                     Time          x  \\\n",
       "0         2016      332    2983   31357  2017-02-06 02:16:46.500  62.500000   \n",
       "1         2016      332    2983   29252  2017-02-06 02:16:46.700  62.340000   \n",
       "2         2016      332    2983   31570  2017-02-06 02:16:46.700  62.340000   \n",
       "3         2016      332    2983   31357  2017-02-06 02:16:46.700  62.480000   \n",
       "4         2016      332    2983   27980  2017-02-06 02:16:46.700  62.650002   \n",
       "\n",
       "           y   dis           o         dir  Event  \n",
       "0  44.040001  0.01  172.750000  254.820007    NaN  \n",
       "1  24.610001  0.02  183.720001   86.209999    NaN  \n",
       "2   7.340000  0.01  164.559998  199.660004    NaN  \n",
       "3  44.070000  0.02  160.509995  250.039993    NaN  \n",
       "4  22.129999  0.04  185.669998  266.500000    NaN  "
      ]
     },
     "execution_count": 22,
     "metadata": {},
     "output_type": "execute_result"
    }
   ],
   "source": [
    "#View sample data to see what variables exist \n",
    "df_ngs_test = pd.read_csv('NGS-2016-post.csv',nrows=5)\n",
    "df_ngs_test.head()"
   ]
  },
  {
   "cell_type": "code",
   "execution_count": 6,
   "metadata": {},
   "outputs": [
    {
     "name": "stdout",
     "output_type": "stream",
     "text": [
      "<class 'pandas.core.frame.DataFrame'>\n",
      "RangeIndex: 5 entries, 0 to 4\n",
      "Data columns (total 11 columns):\n",
      "Season_Year    5 non-null int64\n",
      "GameKey        5 non-null int64\n",
      "PlayID         5 non-null int64\n",
      "GSISID         5 non-null int64\n",
      "Time           5 non-null object\n",
      "x              5 non-null float64\n",
      "y              5 non-null float64\n",
      "dis            5 non-null float64\n",
      "o              5 non-null float64\n",
      "dir            5 non-null float64\n",
      "Event          0 non-null float64\n",
      "dtypes: float64(6), int64(4), object(1)\n",
      "memory usage: 520.0+ bytes\n"
     ]
    }
   ],
   "source": [
    "#View data types\n",
    "df_ngs_test.info()"
   ]
  },
  {
   "cell_type": "code",
   "execution_count": 3,
   "metadata": {},
   "outputs": [],
   "source": [
    "#re-define data types and turn into list \n",
    "dtypes={'Season_Year': 'int16',\n",
    "         'GameKey': 'int16',\n",
    "         'PlayID': 'int16',\n",
    "         'GSISID': 'float32',\n",
    "         'Time': 'str',\n",
    "         'x': 'float32',\n",
    "         'y': 'float32',\n",
    "         'dis': 'float32',\n",
    "         'o': 'float32',\n",
    "         'dir': 'float32',\n",
    "         'Event': 'str'}\n",
    "\n",
    "col_names = list(dtypes.keys())"
   ]
  },
  {
   "cell_type": "code",
   "execution_count": 4,
   "metadata": {},
   "outputs": [],
   "source": [
    "#List all files\n",
    "ngs_files = ['NGS-2016-pre.csv',\n",
    "             'NGS-2016-reg-wk1-6.csv',\n",
    "             'NGS-2016-reg-wk7-12.csv',\n",
    "             'NGS-2016-reg-wk13-17.csv',\n",
    "             'NGS-2016-post.csv',\n",
    "             'NGS-2017-pre.csv',\n",
    "             'NGS-2017-reg-wk1-6.csv',\n",
    "             'NGS-2017-reg-wk7-12.csv',\n",
    "             'NGS-2017-reg-wk13-17.csv',\n",
    "             'NGS-2017-post.csv']"
   ]
  },
  {
   "cell_type": "code",
   "execution_count": 5,
   "metadata": {},
   "outputs": [],
   "source": [
    "path = 'data/'"
   ]
  },
  {
   "cell_type": "code",
   "execution_count": 6,
   "metadata": {},
   "outputs": [
    {
     "name": "stdout",
     "output_type": "stream",
     "text": [
      "['NGS-2016-pre.csv', 'NGS-2016-reg-wk7-12.csv', 'video_footage-control.csv', 'video_footage-injury.csv', 'NGS-2017-reg-wk7-12.csv', 'NGS-2017-pre.csv', 'NGS-2016-reg-wk1-6.csv', 'play_information.csv', 'NGS-2016-post.csv', 'NGS-2017-post.csv', 'play_player_role_data.csv', 'game_data.csv', 'First and Future Data Manual 12062018.docx', 'NGS-2016-reg-wk13-17.csv', 'player_punt_data.csv', 'video_review.csv', 'NGS-2017-reg-wk1-6.csv', 'NGS-2017-reg-wk13-17.csv']\n"
     ]
    }
   ],
   "source": [
    "#Check to ensure the directory path is correct\n",
    "print(os.listdir(\"data/\"))"
   ]
  },
  {
   "cell_type": "code",
   "execution_count": 8,
   "metadata": {},
   "outputs": [
    {
     "name": "stderr",
     "output_type": "stream",
     "text": [
      "100%|██████████| 10/10 [01:40<00:00,  8.65s/it]\n"
     ]
    }
   ],
   "source": [
    "# Load each ngs file and append it to a list. \n",
    "# We will turn this into a DataFrame in the next step\n",
    "\n",
    "df_list = []\n",
    "\n",
    "for i in tqdm.tqdm(ngs_files):\n",
    "    df = pd.read_csv(f'{path}'+i, usecols=col_names,dtype=dtypes)\n",
    "    \n",
    "    df_list.append(df)"
   ]
  },
  {
   "cell_type": "code",
   "execution_count": 10,
   "metadata": {},
   "outputs": [],
   "source": [
    "#Create dataframe of all NGS tables\n",
    "df_ngs_all = pd.concat(df_list)"
   ]
  },
  {
   "cell_type": "code",
   "execution_count": 11,
   "metadata": {},
   "outputs": [],
   "source": [
    "#Delete previous table \n",
    "del df_list\n",
    "#gc.collect() #cannot find package"
   ]
  },
  {
   "cell_type": "code",
   "execution_count": 16,
   "metadata": {},
   "outputs": [
    {
     "data": {
      "text/plain": [
       "dtype('O')"
      ]
     },
     "execution_count": 16,
     "metadata": {},
     "output_type": "execute_result"
    }
   ],
   "source": [
    "#Check data type of Object \n",
    "df_ngs_all.Event.dtype"
   ]
  },
  {
   "cell_type": "code",
   "execution_count": 19,
   "metadata": {},
   "outputs": [
    {
     "data": {
      "text/plain": [
       "Season_Year           0\n",
       "GameKey               0\n",
       "PlayID                0\n",
       "GSISID             2536\n",
       "Time                  0\n",
       "x                     0\n",
       "y                     0\n",
       "dis                   0\n",
       "o                     0\n",
       "dir                   0\n",
       "Event          65279204\n",
       "dtype: int64"
      ]
     },
     "execution_count": 19,
     "metadata": {},
     "output_type": "execute_result"
    }
   ],
   "source": [
    "#Are there any null values ?\n",
    "df_ngs_all.isnull().values.any()\n",
    "\n",
    "#Which columns have null values?\n",
    "df_ngs_all.isnull().sum()"
   ]
  },
  {
   "cell_type": "code",
   "execution_count": 12,
   "metadata": {},
   "outputs": [],
   "source": [
    "#Convert 'Time' from string to date time format\n",
    "df_ngs_all['Time'] = pd.to_datetime(df_ngs_all['Time'], format='%Y-%m-%d %H:%M:%S')\n",
    "\n",
    "#Turn Season_Year into category variable"
   ]
  },
  {
   "cell_type": "code",
   "execution_count": 13,
   "metadata": {},
   "outputs": [
    {
     "name": "stdout",
     "output_type": "stream",
     "text": [
      "<class 'pandas.core.frame.DataFrame'>\n",
      "Int64Index: 66492490 entries, 0 to 1037157\n",
      "Data columns (total 11 columns):\n",
      "Season_Year    int16\n",
      "GameKey        int16\n",
      "PlayID         int16\n",
      "GSISID         float32\n",
      "Time           datetime64[ns]\n",
      "x              float32\n",
      "y              float32\n",
      "dis            float32\n",
      "o              float32\n",
      "dir            float32\n",
      "Event          object\n",
      "dtypes: datetime64[ns](1), float32(6), int16(3), object(1)\n",
      "memory usage: 3.3+ GB\n"
     ]
    }
   ],
   "source": [
    "#Ensure all variables have been changed \n",
    "df_ngs_all.info()"
   ]
  },
  {
   "cell_type": "code",
   "execution_count": null,
   "metadata": {},
   "outputs": [],
   "source": []
  },
  {
   "cell_type": "code",
   "execution_count": null,
   "metadata": {},
   "outputs": [],
   "source": []
  },
  {
   "cell_type": "code",
   "execution_count": 27,
   "metadata": {},
   "outputs": [
    {
     "data": {
      "text/html": [
       "<div>\n",
       "<style scoped>\n",
       "    .dataframe tbody tr th:only-of-type {\n",
       "        vertical-align: middle;\n",
       "    }\n",
       "\n",
       "    .dataframe tbody tr th {\n",
       "        vertical-align: top;\n",
       "    }\n",
       "\n",
       "    .dataframe thead th {\n",
       "        text-align: right;\n",
       "    }\n",
       "</style>\n",
       "<table border=\"1\" class=\"dataframe\">\n",
       "  <thead>\n",
       "    <tr style=\"text-align: right;\">\n",
       "      <th></th>\n",
       "      <th>Season_Year</th>\n",
       "      <th>GameKey</th>\n",
       "      <th>PlayID</th>\n",
       "      <th>GSISID</th>\n",
       "      <th>Time</th>\n",
       "      <th>x</th>\n",
       "      <th>y</th>\n",
       "      <th>dis</th>\n",
       "      <th>o</th>\n",
       "      <th>dir</th>\n",
       "      <th>Event</th>\n",
       "    </tr>\n",
       "  </thead>\n",
       "  <tbody>\n",
       "    <tr>\n",
       "      <th>0</th>\n",
       "      <td>2016</td>\n",
       "      <td>3</td>\n",
       "      <td>3949</td>\n",
       "      <td>33078.0</td>\n",
       "      <td>2016-08-12 02:27:11.100</td>\n",
       "      <td>58.320000</td>\n",
       "      <td>12.90</td>\n",
       "      <td>0.00</td>\n",
       "      <td>347.989990</td>\n",
       "      <td>64.320000</td>\n",
       "      <td>NaN</td>\n",
       "    </tr>\n",
       "    <tr>\n",
       "      <th>1</th>\n",
       "      <td>2016</td>\n",
       "      <td>3</td>\n",
       "      <td>3949</td>\n",
       "      <td>24417.0</td>\n",
       "      <td>2016-08-12 02:27:11.100</td>\n",
       "      <td>56.740002</td>\n",
       "      <td>13.85</td>\n",
       "      <td>0.02</td>\n",
       "      <td>18.180000</td>\n",
       "      <td>359.750000</td>\n",
       "      <td>NaN</td>\n",
       "    </tr>\n",
       "    <tr>\n",
       "      <th>2</th>\n",
       "      <td>2016</td>\n",
       "      <td>3</td>\n",
       "      <td>3949</td>\n",
       "      <td>32570.0</td>\n",
       "      <td>2016-08-12 02:27:11.100</td>\n",
       "      <td>50.779999</td>\n",
       "      <td>0.34</td>\n",
       "      <td>0.09</td>\n",
       "      <td>286.130005</td>\n",
       "      <td>185.149994</td>\n",
       "      <td>NaN</td>\n",
       "    </tr>\n",
       "    <tr>\n",
       "      <th>3</th>\n",
       "      <td>2016</td>\n",
       "      <td>3</td>\n",
       "      <td>3949</td>\n",
       "      <td>27831.0</td>\n",
       "      <td>2016-08-12 02:27:11.200</td>\n",
       "      <td>59.340000</td>\n",
       "      <td>12.33</td>\n",
       "      <td>0.05</td>\n",
       "      <td>325.130005</td>\n",
       "      <td>294.489990</td>\n",
       "      <td>NaN</td>\n",
       "    </tr>\n",
       "    <tr>\n",
       "      <th>4</th>\n",
       "      <td>2016</td>\n",
       "      <td>3</td>\n",
       "      <td>3949</td>\n",
       "      <td>32575.0</td>\n",
       "      <td>2016-08-12 02:27:11.200</td>\n",
       "      <td>52.950001</td>\n",
       "      <td>-0.37</td>\n",
       "      <td>0.03</td>\n",
       "      <td>322.970001</td>\n",
       "      <td>145.889999</td>\n",
       "      <td>NaN</td>\n",
       "    </tr>\n",
       "  </tbody>\n",
       "</table>\n",
       "</div>"
      ],
      "text/plain": [
       "   Season_Year  GameKey  PlayID   GSISID                    Time          x  \\\n",
       "0         2016        3    3949  33078.0 2016-08-12 02:27:11.100  58.320000   \n",
       "1         2016        3    3949  24417.0 2016-08-12 02:27:11.100  56.740002   \n",
       "2         2016        3    3949  32570.0 2016-08-12 02:27:11.100  50.779999   \n",
       "3         2016        3    3949  27831.0 2016-08-12 02:27:11.200  59.340000   \n",
       "4         2016        3    3949  32575.0 2016-08-12 02:27:11.200  52.950001   \n",
       "\n",
       "       y   dis           o         dir Event  \n",
       "0  12.90  0.00  347.989990   64.320000   NaN  \n",
       "1  13.85  0.02   18.180000  359.750000   NaN  \n",
       "2   0.34  0.09  286.130005  185.149994   NaN  \n",
       "3  12.33  0.05  325.130005  294.489990   NaN  \n",
       "4  -0.37  0.03  322.970001  145.889999   NaN  "
      ]
     },
     "execution_count": 27,
     "metadata": {},
     "output_type": "execute_result"
    }
   ],
   "source": [
    "df_ngs_all.head()"
   ]
  },
  {
   "cell_type": "markdown",
   "metadata": {},
   "source": [
    "###### Video data sets"
   ]
  },
  {
   "cell_type": "code",
   "execution_count": 24,
   "metadata": {},
   "outputs": [],
   "source": [
    "df_video_control = pd.read_csv('data/video_footage-control.csv')\n",
    "\n",
    "df_video_injury = pd.read_csv('data/video_footage-injury.csv')\n",
    "\n",
    "df_video_review = pd.read_csv('data/video_review.csv')"
   ]
  },
  {
   "cell_type": "code",
   "execution_count": 31,
   "metadata": {},
   "outputs": [
    {
     "data": {
      "text/html": [
       "<div>\n",
       "<style scoped>\n",
       "    .dataframe tbody tr th:only-of-type {\n",
       "        vertical-align: middle;\n",
       "    }\n",
       "\n",
       "    .dataframe tbody tr th {\n",
       "        vertical-align: top;\n",
       "    }\n",
       "\n",
       "    .dataframe thead th {\n",
       "        text-align: right;\n",
       "    }\n",
       "</style>\n",
       "<table border=\"1\" class=\"dataframe\">\n",
       "  <thead>\n",
       "    <tr style=\"text-align: right;\">\n",
       "      <th></th>\n",
       "      <th>season</th>\n",
       "      <th>Type</th>\n",
       "      <th>Week</th>\n",
       "      <th>Home_team</th>\n",
       "      <th>Visit_Team</th>\n",
       "      <th>Qtr</th>\n",
       "      <th>PlayDescription</th>\n",
       "      <th>gamekey</th>\n",
       "      <th>playid</th>\n",
       "      <th>PREVIEW LINK (5000K)</th>\n",
       "    </tr>\n",
       "  </thead>\n",
       "  <tbody>\n",
       "    <tr>\n",
       "      <th>0</th>\n",
       "      <td>2016</td>\n",
       "      <td>Pre</td>\n",
       "      <td>2</td>\n",
       "      <td>Chicago Bears</td>\n",
       "      <td>Denver Broncos</td>\n",
       "      <td>3</td>\n",
       "      <td>(3:44) (Punt formation) P.O'Donnell punts 58 y...</td>\n",
       "      <td>5</td>\n",
       "      <td>3129</td>\n",
       "      <td>http://a.video.nfl.com//films/vodzilla/153233/...</td>\n",
       "    </tr>\n",
       "    <tr>\n",
       "      <th>1</th>\n",
       "      <td>2016</td>\n",
       "      <td>Pre</td>\n",
       "      <td>3</td>\n",
       "      <td>Tennessee Titans</td>\n",
       "      <td>Carolina Panthers</td>\n",
       "      <td>3</td>\n",
       "      <td>(5:52) (Punt formation) K.Redfern punts 36 yar...</td>\n",
       "      <td>21</td>\n",
       "      <td>2587</td>\n",
       "      <td>http://a.video.nfl.com//films/vodzilla/153234/...</td>\n",
       "    </tr>\n",
       "    <tr>\n",
       "      <th>2</th>\n",
       "      <td>2016</td>\n",
       "      <td>Pre</td>\n",
       "      <td>3</td>\n",
       "      <td>Washington Redskins</td>\n",
       "      <td>New York Jets</td>\n",
       "      <td>1</td>\n",
       "      <td>(4:46) L.Edwards punts 51 yards to WAS 27, Cen...</td>\n",
       "      <td>29</td>\n",
       "      <td>538</td>\n",
       "      <td>http://a.video.nfl.com//films/vodzilla/153235/...</td>\n",
       "    </tr>\n",
       "    <tr>\n",
       "      <th>3</th>\n",
       "      <td>2016</td>\n",
       "      <td>Pre</td>\n",
       "      <td>4</td>\n",
       "      <td>New York Jets</td>\n",
       "      <td>New York Giants</td>\n",
       "      <td>2</td>\n",
       "      <td>(8:29) B.Wing punts 44 yards to NYJ 10, Center...</td>\n",
       "      <td>45</td>\n",
       "      <td>1212</td>\n",
       "      <td>http://a.video.nfl.com//films/vodzilla/153236/...</td>\n",
       "    </tr>\n",
       "    <tr>\n",
       "      <th>4</th>\n",
       "      <td>2016</td>\n",
       "      <td>Pre</td>\n",
       "      <td>5</td>\n",
       "      <td>Detroit Lions</td>\n",
       "      <td>Buffalo Bills</td>\n",
       "      <td>1</td>\n",
       "      <td>(:38) C.Schmidt punts 46 yards to DET 8, Cente...</td>\n",
       "      <td>60</td>\n",
       "      <td>905</td>\n",
       "      <td>http://a.video.nfl.com//films/vodzilla/153237/...</td>\n",
       "    </tr>\n",
       "  </tbody>\n",
       "</table>\n",
       "</div>"
      ],
      "text/plain": [
       "   season Type  Week            Home_team         Visit_Team  Qtr  \\\n",
       "0    2016  Pre     2        Chicago Bears     Denver Broncos    3   \n",
       "1    2016  Pre     3     Tennessee Titans  Carolina Panthers    3   \n",
       "2    2016  Pre     3  Washington Redskins      New York Jets    1   \n",
       "3    2016  Pre     4        New York Jets    New York Giants    2   \n",
       "4    2016  Pre     5        Detroit Lions      Buffalo Bills    1   \n",
       "\n",
       "                                     PlayDescription  gamekey  playid  \\\n",
       "0  (3:44) (Punt formation) P.O'Donnell punts 58 y...        5    3129   \n",
       "1  (5:52) (Punt formation) K.Redfern punts 36 yar...       21    2587   \n",
       "2  (4:46) L.Edwards punts 51 yards to WAS 27, Cen...       29     538   \n",
       "3  (8:29) B.Wing punts 44 yards to NYJ 10, Center...       45    1212   \n",
       "4  (:38) C.Schmidt punts 46 yards to DET 8, Cente...       60     905   \n",
       "\n",
       "                                PREVIEW LINK (5000K)  \n",
       "0  http://a.video.nfl.com//films/vodzilla/153233/...  \n",
       "1  http://a.video.nfl.com//films/vodzilla/153234/...  \n",
       "2  http://a.video.nfl.com//films/vodzilla/153235/...  \n",
       "3  http://a.video.nfl.com//films/vodzilla/153236/...  \n",
       "4  http://a.video.nfl.com//films/vodzilla/153237/...  "
      ]
     },
     "execution_count": 31,
     "metadata": {},
     "output_type": "execute_result"
    }
   ],
   "source": [
    "df_video_injury.head()"
   ]
  },
  {
   "cell_type": "markdown",
   "metadata": {},
   "source": [
    "###### Play Information data set"
   ]
  },
  {
   "cell_type": "code",
   "execution_count": 28,
   "metadata": {},
   "outputs": [],
   "source": [
    "df_play_info = pd.read_csv('data/play_information.csv')"
   ]
  },
  {
   "cell_type": "code",
   "execution_count": 29,
   "metadata": {},
   "outputs": [
    {
     "data": {
      "text/html": [
       "<div>\n",
       "<style scoped>\n",
       "    .dataframe tbody tr th:only-of-type {\n",
       "        vertical-align: middle;\n",
       "    }\n",
       "\n",
       "    .dataframe tbody tr th {\n",
       "        vertical-align: top;\n",
       "    }\n",
       "\n",
       "    .dataframe thead th {\n",
       "        text-align: right;\n",
       "    }\n",
       "</style>\n",
       "<table border=\"1\" class=\"dataframe\">\n",
       "  <thead>\n",
       "    <tr style=\"text-align: right;\">\n",
       "      <th></th>\n",
       "      <th>Season_Year</th>\n",
       "      <th>Season_Type</th>\n",
       "      <th>GameKey</th>\n",
       "      <th>Game_Date</th>\n",
       "      <th>Week</th>\n",
       "      <th>PlayID</th>\n",
       "      <th>Game_Clock</th>\n",
       "      <th>YardLine</th>\n",
       "      <th>Quarter</th>\n",
       "      <th>Play_Type</th>\n",
       "      <th>Poss_Team</th>\n",
       "      <th>Home_Team_Visit_Team</th>\n",
       "      <th>Score_Home_Visiting</th>\n",
       "      <th>PlayDescription</th>\n",
       "    </tr>\n",
       "  </thead>\n",
       "  <tbody>\n",
       "    <tr>\n",
       "      <th>0</th>\n",
       "      <td>2016</td>\n",
       "      <td>Pre</td>\n",
       "      <td>2</td>\n",
       "      <td>08/13/2016</td>\n",
       "      <td>2</td>\n",
       "      <td>191</td>\n",
       "      <td>12:30</td>\n",
       "      <td>LA 47</td>\n",
       "      <td>1</td>\n",
       "      <td>Punt</td>\n",
       "      <td>LA</td>\n",
       "      <td>LA-DAL</td>\n",
       "      <td>0 - 7</td>\n",
       "      <td>(12:30) J.Hekker punts 52 yards to DAL 1, Cent...</td>\n",
       "    </tr>\n",
       "    <tr>\n",
       "      <th>1</th>\n",
       "      <td>2016</td>\n",
       "      <td>Pre</td>\n",
       "      <td>2</td>\n",
       "      <td>08/13/2016</td>\n",
       "      <td>2</td>\n",
       "      <td>1132</td>\n",
       "      <td>12:08</td>\n",
       "      <td>LA 29</td>\n",
       "      <td>2</td>\n",
       "      <td>Punt</td>\n",
       "      <td>LA</td>\n",
       "      <td>LA-DAL</td>\n",
       "      <td>7 - 21</td>\n",
       "      <td>(12:08) J.Hekker punts 51 yards to DAL 20, Cen...</td>\n",
       "    </tr>\n",
       "    <tr>\n",
       "      <th>2</th>\n",
       "      <td>2016</td>\n",
       "      <td>Pre</td>\n",
       "      <td>2</td>\n",
       "      <td>08/13/2016</td>\n",
       "      <td>2</td>\n",
       "      <td>1227</td>\n",
       "      <td>10:01</td>\n",
       "      <td>DAL 18</td>\n",
       "      <td>2</td>\n",
       "      <td>Punt</td>\n",
       "      <td>DAL</td>\n",
       "      <td>LA-DAL</td>\n",
       "      <td>7 - 21</td>\n",
       "      <td>(10:01) C.Jones punts 40 yards to LA 42, Cente...</td>\n",
       "    </tr>\n",
       "    <tr>\n",
       "      <th>3</th>\n",
       "      <td>2016</td>\n",
       "      <td>Pre</td>\n",
       "      <td>2</td>\n",
       "      <td>08/13/2016</td>\n",
       "      <td>2</td>\n",
       "      <td>1864</td>\n",
       "      <td>00:21</td>\n",
       "      <td>DAL 46</td>\n",
       "      <td>2</td>\n",
       "      <td>Punt</td>\n",
       "      <td>LA</td>\n",
       "      <td>LA-DAL</td>\n",
       "      <td>7 - 24</td>\n",
       "      <td>(:21) J.Hekker punts 31 yards to DAL 15, Cente...</td>\n",
       "    </tr>\n",
       "    <tr>\n",
       "      <th>4</th>\n",
       "      <td>2016</td>\n",
       "      <td>Pre</td>\n",
       "      <td>2</td>\n",
       "      <td>08/13/2016</td>\n",
       "      <td>2</td>\n",
       "      <td>2247</td>\n",
       "      <td>10:26</td>\n",
       "      <td>DAL 15</td>\n",
       "      <td>3</td>\n",
       "      <td>Punt</td>\n",
       "      <td>DAL</td>\n",
       "      <td>LA-DAL</td>\n",
       "      <td>14 - 24</td>\n",
       "      <td>(10:26) M.Wile punts 40 yards to LA 45, Center...</td>\n",
       "    </tr>\n",
       "  </tbody>\n",
       "</table>\n",
       "</div>"
      ],
      "text/plain": [
       "   Season_Year Season_Type  GameKey   Game_Date  Week  PlayID Game_Clock  \\\n",
       "0         2016         Pre        2  08/13/2016     2     191      12:30   \n",
       "1         2016         Pre        2  08/13/2016     2    1132      12:08   \n",
       "2         2016         Pre        2  08/13/2016     2    1227      10:01   \n",
       "3         2016         Pre        2  08/13/2016     2    1864      00:21   \n",
       "4         2016         Pre        2  08/13/2016     2    2247      10:26   \n",
       "\n",
       "  YardLine  Quarter Play_Type Poss_Team Home_Team_Visit_Team  \\\n",
       "0    LA 47        1      Punt        LA               LA-DAL   \n",
       "1    LA 29        2      Punt        LA               LA-DAL   \n",
       "2   DAL 18        2      Punt       DAL               LA-DAL   \n",
       "3   DAL 46        2      Punt        LA               LA-DAL   \n",
       "4   DAL 15        3      Punt       DAL               LA-DAL   \n",
       "\n",
       "  Score_Home_Visiting                                    PlayDescription  \n",
       "0               0 - 7  (12:30) J.Hekker punts 52 yards to DAL 1, Cent...  \n",
       "1              7 - 21  (12:08) J.Hekker punts 51 yards to DAL 20, Cen...  \n",
       "2              7 - 21  (10:01) C.Jones punts 40 yards to LA 42, Cente...  \n",
       "3              7 - 24  (:21) J.Hekker punts 31 yards to DAL 15, Cente...  \n",
       "4             14 - 24  (10:26) M.Wile punts 40 yards to LA 45, Center...  "
      ]
     },
     "execution_count": 29,
     "metadata": {},
     "output_type": "execute_result"
    }
   ],
   "source": [
    "df_play_info.head()"
   ]
  },
  {
   "cell_type": "markdown",
   "metadata": {},
   "source": [
    "###### Player Role data set"
   ]
  },
  {
   "cell_type": "code",
   "execution_count": 29,
   "metadata": {},
   "outputs": [],
   "source": [
    "df_player_role = pd.read_csv('data/play_player_role_data.csv')"
   ]
  },
  {
   "cell_type": "markdown",
   "metadata": {},
   "source": [
    "###### Player Punt data set"
   ]
  },
  {
   "cell_type": "code",
   "execution_count": 30,
   "metadata": {},
   "outputs": [],
   "source": [
    "df_player_punt = pd.read_csv('data/player_punt_data.csv')"
   ]
  },
  {
   "cell_type": "markdown",
   "metadata": {},
   "source": [
    "###### Game data set"
   ]
  },
  {
   "cell_type": "code",
   "execution_count": 31,
   "metadata": {},
   "outputs": [],
   "source": [
    "df_game = pd.read_csv('data/game_data.csv')"
   ]
  },
  {
   "cell_type": "markdown",
   "metadata": {},
   "source": [
    "Full Join on all datasets"
   ]
  },
  {
   "cell_type": "code",
   "execution_count": null,
   "metadata": {},
   "outputs": [],
   "source": [
    "()"
   ]
  },
  {
   "cell_type": "code",
   "execution_count": null,
   "metadata": {},
   "outputs": [],
   "source": []
  },
  {
   "cell_type": "code",
   "execution_count": null,
   "metadata": {},
   "outputs": [],
   "source": []
  },
  {
   "cell_type": "code",
   "execution_count": null,
   "metadata": {},
   "outputs": [],
   "source": []
  },
  {
   "cell_type": "code",
   "execution_count": 38,
   "metadata": {},
   "outputs": [
    {
     "data": {
      "text/plain": [
       "Season_Year    0\n",
       "GameKey        0\n",
       "PlayID         0\n",
       "GSISID         0\n",
       "Role           0\n",
       "dtype: int64"
      ]
     },
     "execution_count": 38,
     "metadata": {},
     "output_type": "execute_result"
    }
   ],
   "source": [
    "df_player_role.isnull().sum()\n",
    "\n"
   ]
  }
 ],
 "metadata": {
  "kernelspec": {
   "display_name": "Python 3",
   "language": "python",
   "name": "python3"
  },
  "language_info": {
   "codemirror_mode": {
    "name": "ipython",
    "version": 3
   },
   "file_extension": ".py",
   "mimetype": "text/x-python",
   "name": "python",
   "nbconvert_exporter": "python",
   "pygments_lexer": "ipython3",
   "version": "3.7.1"
  }
 },
 "nbformat": 4,
 "nbformat_minor": 2
}
